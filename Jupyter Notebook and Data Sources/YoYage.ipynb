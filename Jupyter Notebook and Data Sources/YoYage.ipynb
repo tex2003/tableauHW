{
 "cells": [
  {
   "cell_type": "code",
   "execution_count": 7,
   "metadata": {},
   "outputs": [],
   "source": [
    "import pandas as pd\n",
    "import warnings\n",
    "import os\n",
    "warnings.filterwarnings(\"ignore\")\n",
    "import numpy as np\n",
    "from datetime import datetime"
   ]
  },
  {
   "cell_type": "code",
   "execution_count": 8,
   "metadata": {},
   "outputs": [],
   "source": [
    "df = pd.read_csv(\"YOY/Jan 2018.csv\")\n",
    "df_1 = df[['start station id', 'birth year']]\n",
    "df_1[\"age\"]= 2018-df_1[\"birth year\"]\n",
    "bins = [0, 19, 29, 39, 49, 59, 79, 100]\n",
    "group_names = [\"Teens\", \"20s\", \"30s\", \"40s\", \"50s\", \"60+\", \"Ignore\"]\n",
    "df_1[\"Age Group\"] = pd.cut(df_1[\"age\"], bins, labels=group_names)\n",
    "df_count = df_1.groupby(['Age Group']).count()\n",
    "df_renamed= df_count.rename(columns={\"birth year\": \"JAN 2018 Trips\"})\n",
    "df_final_2018 = df_renamed[['JAN 2018 Trips']]"
   ]
  },
  {
   "cell_type": "code",
   "execution_count": 9,
   "metadata": {},
   "outputs": [],
   "source": [
    "df = pd.read_csv(\"YOY/Jan 2019.csv\")\n",
    "df_1 = df[['start station id', 'birth year']]\n",
    "df_1[\"age\"]= 2018-df_1[\"birth year\"]\n",
    "bins = [0, 19, 29, 39, 49, 59, 79, 100]\n",
    "group_names = [\"Teens\", \"20s\", \"30s\", \"40s\", \"50s\", \"60+\", \"Ignore\"]\n",
    "df_1[\"Age Group\"] = pd.cut(df_1[\"age\"], bins, labels=group_names)\n",
    "df_count = df_1.groupby(['Age Group']).count()\n",
    "df_renamed= df_count.rename(columns={\"birth year\": \"JAN 2019 Trips\"})\n",
    "df_final_2019 = df_renamed[['JAN 2019 Trips']]"
   ]
  },
  {
   "cell_type": "code",
   "execution_count": 10,
   "metadata": {},
   "outputs": [],
   "source": [
    "df_joined_age = pd.merge(df_final_2018, df_final_2019, on='Age Group')"
   ]
  },
  {
   "cell_type": "code",
   "execution_count": 11,
   "metadata": {},
   "outputs": [
    {
     "data": {
      "text/html": [
       "<div>\n",
       "<style scoped>\n",
       "    .dataframe tbody tr th:only-of-type {\n",
       "        vertical-align: middle;\n",
       "    }\n",
       "\n",
       "    .dataframe tbody tr th {\n",
       "        vertical-align: top;\n",
       "    }\n",
       "\n",
       "    .dataframe thead th {\n",
       "        text-align: right;\n",
       "    }\n",
       "</style>\n",
       "<table border=\"1\" class=\"dataframe\">\n",
       "  <thead>\n",
       "    <tr style=\"text-align: right;\">\n",
       "      <th></th>\n",
       "      <th>JAN 2018 Trips</th>\n",
       "      <th>JAN 2019 Trips</th>\n",
       "      <th>% Increase</th>\n",
       "    </tr>\n",
       "    <tr>\n",
       "      <th>Age Group</th>\n",
       "      <th></th>\n",
       "      <th></th>\n",
       "      <th></th>\n",
       "    </tr>\n",
       "  </thead>\n",
       "  <tbody>\n",
       "    <tr>\n",
       "      <th>Teens</th>\n",
       "      <td>3961</td>\n",
       "      <td>9903</td>\n",
       "      <td>1.500126</td>\n",
       "    </tr>\n",
       "    <tr>\n",
       "      <th>20s</th>\n",
       "      <td>152585</td>\n",
       "      <td>241859</td>\n",
       "      <td>0.585077</td>\n",
       "    </tr>\n",
       "    <tr>\n",
       "      <th>30s</th>\n",
       "      <td>227829</td>\n",
       "      <td>297941</td>\n",
       "      <td>0.307740</td>\n",
       "    </tr>\n",
       "    <tr>\n",
       "      <th>40s</th>\n",
       "      <td>174731</td>\n",
       "      <td>218301</td>\n",
       "      <td>0.249355</td>\n",
       "    </tr>\n",
       "    <tr>\n",
       "      <th>50s</th>\n",
       "      <td>110961</td>\n",
       "      <td>139688</td>\n",
       "      <td>0.258893</td>\n",
       "    </tr>\n",
       "    <tr>\n",
       "      <th>60+</th>\n",
       "      <td>47960</td>\n",
       "      <td>58037</td>\n",
       "      <td>0.210113</td>\n",
       "    </tr>\n",
       "    <tr>\n",
       "      <th>Ignore</th>\n",
       "      <td>481</td>\n",
       "      <td>719</td>\n",
       "      <td>0.494802</td>\n",
       "    </tr>\n",
       "  </tbody>\n",
       "</table>\n",
       "</div>"
      ],
      "text/plain": [
       "           JAN 2018 Trips  JAN 2019 Trips  % Increase\n",
       "Age Group                                            \n",
       "Teens                3961            9903    1.500126\n",
       "20s                152585          241859    0.585077\n",
       "30s                227829          297941    0.307740\n",
       "40s                174731          218301    0.249355\n",
       "50s                110961          139688    0.258893\n",
       "60+                 47960           58037    0.210113\n",
       "Ignore                481             719    0.494802"
      ]
     },
     "execution_count": 11,
     "metadata": {},
     "output_type": "execute_result"
    }
   ],
   "source": [
    "df_joined_age[\"% Increase\"] = ((df_joined_age[\"JAN 2019 Trips\"]-df_joined_age[\"JAN 2018 Trips\"])/df_joined_age[\"JAN 2018 Trips\"])\n",
    "df_joined_age"
   ]
  },
  {
   "cell_type": "code",
   "execution_count": 12,
   "metadata": {},
   "outputs": [],
   "source": [
    "df_joined_age.to_csv(\"YOYage.csv\", index=True, header=True)"
   ]
  },
  {
   "cell_type": "code",
   "execution_count": null,
   "metadata": {},
   "outputs": [],
   "source": []
  }
 ],
 "metadata": {
  "kernelspec": {
   "display_name": "ut_data",
   "language": "python",
   "name": "ut_data"
  },
  "language_info": {
   "codemirror_mode": {
    "name": "ipython",
    "version": 3
   },
   "file_extension": ".py",
   "mimetype": "text/x-python",
   "name": "python",
   "nbconvert_exporter": "python",
   "pygments_lexer": "ipython3",
   "version": "3.7.2"
  }
 },
 "nbformat": 4,
 "nbformat_minor": 2
}
