{
 "cells": [
  {
   "cell_type": "code",
   "execution_count": 1,
   "metadata": {},
   "outputs": [],
   "source": [
    "import pandas as pd\n",
    "import warnings\n",
    "import os\n",
    "warnings.filterwarnings(\"ignore\")\n",
    "import numpy as np\n",
    "from datetime import datetime"
   ]
  },
  {
   "cell_type": "code",
   "execution_count": 2,
   "metadata": {},
   "outputs": [],
   "source": [
    "df = pd.read_csv(\"YOY/Jan 2018.csv\")\n",
    "df_1 = df[['start station id', 'birth year']]\n",
    "df_count = df_1.groupby(['start station id']).count()\n",
    "df_renamed= df_count.rename(columns={\"birth year\": \"2018 Start Station Count\"})\n",
    "name = df[['start station id','start station name']]\n",
    "name_key=name.drop_duplicates()\n",
    "df_joined_2018= pd.merge(df_renamed, name_key, on='start station id')\n"
   ]
  },
  {
   "cell_type": "code",
   "execution_count": 7,
   "metadata": {},
   "outputs": [],
   "source": [
    "df = pd.read_csv(\"YOY/Jan 2019.csv\")\n",
    "df_1 = df[['start station id', 'birth year']]\n",
    "df_count = df_1.groupby(['start station id']).count()\n",
    "df_2019= df_count.rename(columns={\"birth year\": \"2019 Start Station Count\"})"
   ]
  },
  {
   "cell_type": "code",
   "execution_count": 8,
   "metadata": {},
   "outputs": [],
   "source": [
    "df_joined_both = pd.merge(df_joined_2018, df_2019, on='start station id')"
   ]
  },
  {
   "cell_type": "code",
   "execution_count": 10,
   "metadata": {},
   "outputs": [],
   "source": [
    "df_joined_both.to_csv(\"mOm.csv\", index=False, header=True)"
   ]
  },
  {
   "cell_type": "code",
   "execution_count": null,
   "metadata": {},
   "outputs": [],
   "source": []
  }
 ],
 "metadata": {
  "kernelspec": {
   "display_name": "ut_data",
   "language": "python",
   "name": "ut_data"
  },
  "language_info": {
   "codemirror_mode": {
    "name": "ipython",
    "version": 3
   },
   "file_extension": ".py",
   "mimetype": "text/x-python",
   "name": "python",
   "nbconvert_exporter": "python",
   "pygments_lexer": "ipython3",
   "version": "3.7.2"
  }
 },
 "nbformat": 4,
 "nbformat_minor": 2
}
