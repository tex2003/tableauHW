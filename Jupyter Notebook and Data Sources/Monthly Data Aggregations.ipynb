{
 "cells": [
  {
   "cell_type": "code",
   "execution_count": 7,
   "metadata": {},
   "outputs": [],
   "source": [
    "import pandas as pd\n",
    "import warnings\n",
    "import os\n",
    "warnings.filterwarnings(\"ignore\")\n",
    "import numpy as np\n",
    "from datetime import datetime"
   ]
  },
  {
   "cell_type": "code",
   "execution_count": 8,
   "metadata": {},
   "outputs": [
    {
     "data": {
      "text/plain": [
       "['2016_Q1.csv',\n",
       " '2018_Q4.csv',\n",
       " '2014_Q4.csv',\n",
       " '2016_Q2.csv',\n",
       " '2019-Q1.csv',\n",
       " '2016_Q3.csv',\n",
       " '2018_Q2.csv',\n",
       " '2014_Q2.csv',\n",
       " '2014_Q3.csv',\n",
       " '2015-Q4.csv',\n",
       " '2018_Q3.csv',\n",
       " '2018_Q1.csv',\n",
       " '2016_Q4.csv',\n",
       " '2014_Q1.csv',\n",
       " '2017_Q3.csv',\n",
       " '2017_Q2.csv',\n",
       " '2017_Q1.csv',\n",
       " '2017_Q4.csv',\n",
       " '2015_Q1.csv',\n",
       " '2015_Q3.csv',\n",
       " '2015_Q2.csv']"
      ]
     },
     "execution_count": 8,
     "metadata": {},
     "output_type": "execute_result"
    }
   ],
   "source": [
    "filelist = os.listdir(\"Raw Files\")\n",
    "filelist"
   ]
  },
  {
   "cell_type": "code",
   "execution_count": 9,
   "metadata": {},
   "outputs": [],
   "source": [
    "cleaned_df = pd.DataFrame({'Month/Year': [], 'Trips': [], 'Miles': [], 'Short Term Memberships Purchased': [], 'Daily Memberships Purchased': []})\n",
    "for file in filelist:\n",
    "    df = pd.read_csv(\"Raw Files/\"+file)\n",
    "    df_new = df[['Date', 'Trips over the past 24-hours (midnight to 11:59pm)', 'Miles traveled today (midnight to 11:59 pm)', '3-Day Passes Purchased (midnight to 11:59 pm)','24-Hour Passes Purchased (midnight to 11:59 pm)']]\n",
    "    df_renamed = df_new.rename(columns={'Trips over the past 24-hours (midnight to 11:59pm)':'Trips','Miles traveled today (midnight to 11:59 pm)':'Miles','3-Day Passes Purchased (midnight to 11:59 pm)':'Short Term Memberships Purchased','24-Hour Passes Purchased (midnight to 11:59 pm)':'Daily Memberships Purchased' })\n",
    "    df_renamed['Date'] = pd.to_datetime(df_renamed['Date'], format='%m/%d/%Y',infer_datetime_format=True)\n",
    "    df_renamed['Month/Year'] = df_renamed['Date'].dt.strftime('%m/%y')\n",
    "    df_month = df_renamed.groupby(\"Month/Year\").sum().reset_index()\n",
    "    cleaned_df = cleaned_df.append(df_month, ignore_index=True)  "
   ]
  },
  {
   "cell_type": "code",
   "execution_count": 10,
   "metadata": {},
   "outputs": [
    {
     "data": {
      "text/html": [
       "<div>\n",
       "<style scoped>\n",
       "    .dataframe tbody tr th:only-of-type {\n",
       "        vertical-align: middle;\n",
       "    }\n",
       "\n",
       "    .dataframe tbody tr th {\n",
       "        vertical-align: top;\n",
       "    }\n",
       "\n",
       "    .dataframe thead th {\n",
       "        text-align: right;\n",
       "    }\n",
       "</style>\n",
       "<table border=\"1\" class=\"dataframe\">\n",
       "  <thead>\n",
       "    <tr style=\"text-align: right;\">\n",
       "      <th></th>\n",
       "      <th>Year</th>\n",
       "      <th>Month</th>\n",
       "      <th>Trips</th>\n",
       "      <th>Miles</th>\n",
       "      <th>Daily Memberships Purchased</th>\n",
       "      <th>Short Term Memberships Purchased</th>\n",
       "    </tr>\n",
       "  </thead>\n",
       "  <tbody>\n",
       "    <tr>\n",
       "      <th>39</th>\n",
       "      <td>2014</td>\n",
       "      <td>01</td>\n",
       "      <td>327249.0</td>\n",
       "      <td>432.832</td>\n",
       "      <td>2876.0</td>\n",
       "      <td>327.0</td>\n",
       "    </tr>\n",
       "    <tr>\n",
       "      <th>40</th>\n",
       "      <td>2014</td>\n",
       "      <td>02</td>\n",
       "      <td>247352.0</td>\n",
       "      <td>356.233</td>\n",
       "      <td>3090.0</td>\n",
       "      <td>244.0</td>\n",
       "    </tr>\n",
       "    <tr>\n",
       "      <th>41</th>\n",
       "      <td>2014</td>\n",
       "      <td>03</td>\n",
       "      <td>478029.0</td>\n",
       "      <td>693.825</td>\n",
       "      <td>9651.0</td>\n",
       "      <td>735.0</td>\n",
       "    </tr>\n",
       "    <tr>\n",
       "      <th>21</th>\n",
       "      <td>2014</td>\n",
       "      <td>04</td>\n",
       "      <td>730091.0</td>\n",
       "      <td>1231.795</td>\n",
       "      <td>25699.0</td>\n",
       "      <td>1880.0</td>\n",
       "    </tr>\n",
       "    <tr>\n",
       "      <th>22</th>\n",
       "      <td>2014</td>\n",
       "      <td>05</td>\n",
       "      <td>954994.0</td>\n",
       "      <td>1701.293</td>\n",
       "      <td>40615.0</td>\n",
       "      <td>3260.0</td>\n",
       "    </tr>\n",
       "  </tbody>\n",
       "</table>\n",
       "</div>"
      ],
      "text/plain": [
       "    Year Month     Trips     Miles  Daily Memberships Purchased  \\\n",
       "39  2014    01  327249.0   432.832                       2876.0   \n",
       "40  2014    02  247352.0   356.233                       3090.0   \n",
       "41  2014    03  478029.0   693.825                       9651.0   \n",
       "21  2014    04  730091.0  1231.795                      25699.0   \n",
       "22  2014    05  954994.0  1701.293                      40615.0   \n",
       "\n",
       "    Short Term Memberships Purchased  \n",
       "39                             327.0  \n",
       "40                             244.0  \n",
       "41                             735.0  \n",
       "21                            1880.0  \n",
       "22                            3260.0  "
      ]
     },
     "execution_count": 10,
     "metadata": {},
     "output_type": "execute_result"
    }
   ],
   "source": [
    "cleaned_df['Month/Year'] = pd.to_datetime(cleaned_df['Month/Year'], format='%m/%y')\n",
    "cleaned_df['Month'] = cleaned_df['Month/Year'].dt.strftime('%m')\n",
    "cleaned_df['Year'] = cleaned_df['Month/Year'].dt.strftime('%Y')\n",
    "df_final = cleaned_df[['Year', 'Month', 'Trips', 'Miles', 'Daily Memberships Purchased','Short Term Memberships Purchased']]\n",
    "df_final.sort_values(by=['Year', 'Month']).head()"
   ]
  },
  {
   "cell_type": "code",
   "execution_count": 11,
   "metadata": {},
   "outputs": [],
   "source": [
    "cleaned_df.to_csv(\"df_final.csv\", index=False, header=True)"
   ]
  },
  {
   "cell_type": "code",
   "execution_count": null,
   "metadata": {},
   "outputs": [],
   "source": []
  }
 ],
 "metadata": {
  "kernelspec": {
   "display_name": "ut_data",
   "language": "python",
   "name": "ut_data"
  },
  "language_info": {
   "codemirror_mode": {
    "name": "ipython",
    "version": 3
   },
   "file_extension": ".py",
   "mimetype": "text/x-python",
   "name": "python",
   "nbconvert_exporter": "python",
   "pygments_lexer": "ipython3",
   "version": "3.7.2"
  }
 },
 "nbformat": 4,
 "nbformat_minor": 2
}
